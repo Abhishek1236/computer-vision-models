{
  "nbformat": 4,
  "nbformat_minor": 0,
  "metadata": {
    "colab": {
      "name": "Alexnet_practice.ipynb",
      "provenance": [],
      "authorship_tag": "ABX9TyN4dV+XDcD0fup/I19oz3k6",
      "include_colab_link": true
    },
    "kernelspec": {
      "name": "python3",
      "display_name": "Python 3"
    }
  },
  "cells": [
    {
      "cell_type": "markdown",
      "metadata": {
        "id": "view-in-github",
        "colab_type": "text"
      },
      "source": [
        "<a href=\"https://colab.research.google.com/github/Abhishek1236/computer-vision-models/blob/main/Alexnet_practice.ipynb\" target=\"_parent\"><img src=\"https://colab.research.google.com/assets/colab-badge.svg\" alt=\"Open In Colab\"/></a>"
      ]
    },
    {
      "cell_type": "code",
      "metadata": {
        "id": "xowVGIa68DSw"
      },
      "source": [
        "#importing the libraries\r\n",
        "import keras\r\n",
        "from keras.models import Sequential\r\n",
        "from keras.layers import Dense, Activation, Dropout, Flatten,\\\r\n",
        " Conv2D, MaxPooling2D\r\n",
        "from keras.layers.normalization import BatchNormalization\r\n",
        "import numpy as np\r\n",
        "import tflearn.datasets.oxflower17 as oxflower17\r\n",
        "\r\n",
        "import tensorflow as tf\r\n",
        "np.random.seed(1000)"
      ],
      "execution_count": 38,
      "outputs": []
    },
    {
      "cell_type": "code",
      "metadata": {
        "colab": {
          "base_uri": "https://localhost:8080/"
        },
        "id": "K0p1K8dV8Mi_",
        "outputId": "7b1ce0da-a8b5-493c-b081-193dd41a418e"
      },
      "source": [
        "#preparing the data \r\n",
        "x, y = oxflower17.load_data(one_hot=True)"
      ],
      "execution_count": 8,
      "outputs": [
        {
          "output_type": "stream",
          "text": [
            "Downloading Oxford 17 category Flower Dataset, Please wait...\n"
          ],
          "name": "stdout"
        },
        {
          "output_type": "stream",
          "text": [
            "100.0% 60276736 / 60270631\n"
          ],
          "name": "stderr"
        },
        {
          "output_type": "stream",
          "text": [
            "Succesfully downloaded 17flowers.tgz 60270631 bytes.\n",
            "File Extracted\n",
            "Starting to parse images...\n",
            "Parsing Done!\n"
          ],
          "name": "stdout"
        }
      ]
    },
    {
      "cell_type": "code",
      "metadata": {
        "id": "AlTY6R0O8lqU"
      },
      "source": [
        "#Model \r\n",
        "class Alexnet:\r\n",
        "  def __init__(self,batch_size,epoch,validation_split,x,y):\r\n",
        "    self.batch_size = batch_size\r\n",
        "    self.epoch = epoch\r\n",
        "    self.validation_split = validation_split\r\n",
        "    self.x = x\r\n",
        "    self.y = y\r\n",
        "  def forward():\r\n",
        "    model = Sequential()\r\n",
        "    model.add(Conv2D(96,input_shape=(224,224,3),kernel_size=(11,11),strides=(4,4),padding='valid'))# first conv\r\n",
        "    model.add(Activation('relu'))\r\n",
        "    model.add(MaxPooling2D(pool_size=(3,3),strides=(2,2),padding='valid'))\r\n",
        "    model.add(BatchNormalization())\r\n",
        "    model.add(Conv2D(256,kernel_size=(5,5),padding='valid'))# second conv\r\n",
        "    model.add(Activation('relu'))\r\n",
        "    model.add(MaxPooling2D(pool_size=(3,3),strides=(1,1),padding='valid'))\r\n",
        "    model.add(BatchNormalization())\r\n",
        "    model.add(Conv2D(384,kernel_size=(2,2),padding=\"valid\",strides=(1,1)))#third conv\r\n",
        "    model.add(Activation('relu'))\r\n",
        "    model.add(MaxPooling2D(pool_size=(3,3),padding='valid'))\r\n",
        "    model.add(BatchNormalization())\r\n",
        "    model.add(Conv2D(256,kernel_size=(3,3),padding='valid'))\r\n",
        "    model.add(Activation('relu'))\r\n",
        "    model.add(MaxPooling2D(pool_size=(3,3),strides=(2,2),padding='valid'))\r\n",
        "    model.add(BatchNormalization())\r\n",
        "    model.add(Flatten())\r\n",
        "    model.add(Dense(4096))\r\n",
        "    model.add(Activation('relu'))\r\n",
        "    model.add(Dense(4096))\r\n",
        "    model.add(Activation('relu'))\r\n",
        "    model.add(Dense(17))\r\n",
        "    model.add(Activation('softmax'))\r\n",
        "    return model\r\n",
        "  def training(x,y,batch_size,epochs,validation_split,model):\r\n",
        "    model.compile(loss='categorical_crossentropy', optimizer='adam',metrics=['accuracy'])\r\n",
        "    model.fit(x,y, batch_size=batch_size, epochs=epochs, verbose=1,validation_split=validation_split, shuffle=True)\r\n",
        "    return model\r\n",
        "\r\n"
      ],
      "execution_count": 59,
      "outputs": []
    },
    {
      "cell_type": "code",
      "metadata": {
        "colab": {
          "base_uri": "https://localhost:8080/"
        },
        "id": "2fzBLAzQCO07",
        "outputId": "c3a324a2-0aaa-4468-bde1-34e65aff590f"
      },
      "source": [
        "\r\n",
        "#printing the summary of the model\r\n",
        "model = Alexnet.forward()\r\n",
        "model.summary()"
      ],
      "execution_count": 60,
      "outputs": [
        {
          "output_type": "stream",
          "text": [
            "Model: \"sequential_21\"\n",
            "_________________________________________________________________\n",
            "Layer (type)                 Output Shape              Param #   \n",
            "=================================================================\n",
            "conv2d_19 (Conv2D)           (None, 54, 54, 96)        34944     \n",
            "_________________________________________________________________\n",
            "activation_20 (Activation)   (None, 54, 54, 96)        0         \n",
            "_________________________________________________________________\n",
            "max_pooling2d_15 (MaxPooling (None, 26, 26, 96)        0         \n",
            "_________________________________________________________________\n",
            "batch_normalization_15 (Batc (None, 26, 26, 96)        384       \n",
            "_________________________________________________________________\n",
            "conv2d_20 (Conv2D)           (None, 22, 22, 256)       614656    \n",
            "_________________________________________________________________\n",
            "activation_21 (Activation)   (None, 22, 22, 256)       0         \n",
            "_________________________________________________________________\n",
            "max_pooling2d_16 (MaxPooling (None, 20, 20, 256)       0         \n",
            "_________________________________________________________________\n",
            "batch_normalization_16 (Batc (None, 20, 20, 256)       1024      \n",
            "_________________________________________________________________\n",
            "conv2d_21 (Conv2D)           (None, 19, 19, 384)       393600    \n",
            "_________________________________________________________________\n",
            "activation_22 (Activation)   (None, 19, 19, 384)       0         \n",
            "_________________________________________________________________\n",
            "max_pooling2d_17 (MaxPooling (None, 6, 6, 384)         0         \n",
            "_________________________________________________________________\n",
            "batch_normalization_17 (Batc (None, 6, 6, 384)         1536      \n",
            "_________________________________________________________________\n",
            "conv2d_22 (Conv2D)           (None, 4, 4, 256)         884992    \n",
            "_________________________________________________________________\n",
            "activation_23 (Activation)   (None, 4, 4, 256)         0         \n",
            "_________________________________________________________________\n",
            "max_pooling2d_18 (MaxPooling (None, 1, 1, 256)         0         \n",
            "_________________________________________________________________\n",
            "batch_normalization_18 (Batc (None, 1, 1, 256)         1024      \n",
            "_________________________________________________________________\n",
            "flatten_2 (Flatten)          (None, 256)               0         \n",
            "_________________________________________________________________\n",
            "dense_4 (Dense)              (None, 4096)              1052672   \n",
            "_________________________________________________________________\n",
            "activation_24 (Activation)   (None, 4096)              0         \n",
            "_________________________________________________________________\n",
            "dense_5 (Dense)              (None, 4096)              16781312  \n",
            "_________________________________________________________________\n",
            "activation_25 (Activation)   (None, 4096)              0         \n",
            "_________________________________________________________________\n",
            "dense_6 (Dense)              (None, 17)                69649     \n",
            "_________________________________________________________________\n",
            "activation_26 (Activation)   (None, 17)                0         \n",
            "=================================================================\n",
            "Total params: 19,835,793\n",
            "Trainable params: 19,833,809\n",
            "Non-trainable params: 1,984\n",
            "_________________________________________________________________\n"
          ],
          "name": "stdout"
        }
      ]
    },
    {
      "cell_type": "code",
      "metadata": {
        "colab": {
          "base_uri": "https://localhost:8080/"
        },
        "id": "b4O_tIVaCX9f",
        "outputId": "ea284511-ae7e-41f8-f12b-e4f2571d96aa"
      },
      "source": [
        "trained_model = Alexnet.training(x = x,y = y,batch_size=64,epochs= 1,validation_split=0.25,model=model)"
      ],
      "execution_count": 61,
      "outputs": [
        {
          "output_type": "stream",
          "text": [
            "Train on 1020 samples, validate on 340 samples\n",
            "Epoch 1/1\n",
            "1020/1020 [==============================] - 94s 93ms/step - loss: 2.5427 - accuracy: 0.2912 - val_loss: 4.9362 - val_accuracy: 0.0559\n"
          ],
          "name": "stdout"
        }
      ]
    },
    {
      "cell_type": "code",
      "metadata": {
        "id": "x3oPfsTvG7lN"
      },
      "source": [
        "#saving to disk\r\n",
        "trained_model.save('Alexnet.h5')"
      ],
      "execution_count": 63,
      "outputs": []
    },
    {
      "cell_type": "code",
      "metadata": {
        "id": "wSkmTpYWHoIr"
      },
      "source": [
        ""
      ],
      "execution_count": null,
      "outputs": []
    }
  ]
}